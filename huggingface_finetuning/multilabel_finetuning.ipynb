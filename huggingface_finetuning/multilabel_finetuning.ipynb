{
 "cells": [
  {
   "cell_type": "code",
   "execution_count": 12,
   "id": "cba8e5b4-3a8d-44c2-a782-ef84463282b3",
   "metadata": {},
   "outputs": [],
   "source": [
    "import datasets\n",
    "from datasets import load_dataset\n",
    "import pandas as pd\n",
    "from datasets import Dataset\n",
    "from transformers import BertTokenizer, BertModel, BertConfig\n",
    "from torch.utils.data import DataLoader"
   ]
  },
  {
   "cell_type": "code",
   "execution_count": 2,
   "id": "64bce39d-ad09-4a9e-b466-1f418a8d42fa",
   "metadata": {},
   "outputs": [
    {
     "data": {
      "text/html": [
       "<div>\n",
       "<style scoped>\n",
       "    .dataframe tbody tr th:only-of-type {\n",
       "        vertical-align: middle;\n",
       "    }\n",
       "\n",
       "    .dataframe tbody tr th {\n",
       "        vertical-align: top;\n",
       "    }\n",
       "\n",
       "    .dataframe thead th {\n",
       "        text-align: right;\n",
       "    }\n",
       "</style>\n",
       "<table border=\"1\" class=\"dataframe\">\n",
       "  <thead>\n",
       "    <tr style=\"text-align: right;\">\n",
       "      <th></th>\n",
       "      <th>comment_text</th>\n",
       "      <th>labels</th>\n",
       "    </tr>\n",
       "  </thead>\n",
       "  <tbody>\n",
       "    <tr>\n",
       "      <th>0</th>\n",
       "      <td>Explanation\\nWhy the edits made under my usern...</td>\n",
       "      <td>[0, 0, 0, 0, 0, 0]</td>\n",
       "    </tr>\n",
       "    <tr>\n",
       "      <th>1</th>\n",
       "      <td>D'aww! He matches this background colour I'm s...</td>\n",
       "      <td>[0, 0, 0, 0, 0, 0]</td>\n",
       "    </tr>\n",
       "    <tr>\n",
       "      <th>2</th>\n",
       "      <td>Hey man, I'm really not trying to edit war. It...</td>\n",
       "      <td>[0, 0, 0, 0, 0, 0]</td>\n",
       "    </tr>\n",
       "    <tr>\n",
       "      <th>3</th>\n",
       "      <td>\"\\nMore\\nI can't make any real suggestions on ...</td>\n",
       "      <td>[0, 0, 0, 0, 0, 0]</td>\n",
       "    </tr>\n",
       "    <tr>\n",
       "      <th>4</th>\n",
       "      <td>You, sir, are my hero. Any chance you remember...</td>\n",
       "      <td>[0, 0, 0, 0, 0, 0]</td>\n",
       "    </tr>\n",
       "  </tbody>\n",
       "</table>\n",
       "</div>"
      ],
      "text/plain": [
       "                                        comment_text              labels\n",
       "0  Explanation\\nWhy the edits made under my usern...  [0, 0, 0, 0, 0, 0]\n",
       "1  D'aww! He matches this background colour I'm s...  [0, 0, 0, 0, 0, 0]\n",
       "2  Hey man, I'm really not trying to edit war. It...  [0, 0, 0, 0, 0, 0]\n",
       "3  \"\\nMore\\nI can't make any real suggestions on ...  [0, 0, 0, 0, 0, 0]\n",
       "4  You, sir, are my hero. Any chance you remember...  [0, 0, 0, 0, 0, 0]"
      ]
     },
     "execution_count": 2,
     "metadata": {},
     "output_type": "execute_result"
    }
   ],
   "source": [
    "\"\"\" Label formatting\n",
    "\"\"\"\n",
    "df = pd.read_csv(\"./data/train.csv\")\n",
    "df[\"labels\"] = df[df.columns[2:]].values.tolist()\n",
    "df = df[[\"comment_text\", \"labels\"]].copy()\n",
    "df.head()"
   ]
  },
  {
   "cell_type": "code",
   "execution_count": 3,
   "id": "8a586d2d-d47c-4809-bb54-fe4dd254ad02",
   "metadata": {},
   "outputs": [],
   "source": [
    "\"\"\" Load Huggingface dataset from In-memory data\n",
    "\"\"\"\n",
    "dataset = Dataset.from_pandas(df)"
   ]
  },
  {
   "cell_type": "code",
   "execution_count": 6,
   "id": "37104a5e-df69-4481-bcdb-15fd1d3be702",
   "metadata": {},
   "outputs": [],
   "source": [
    "\"\"\" Encoding dataset (TOKENIZATION) for later use with BERT model\n",
    " - input_ids\n",
    " - attention_mask\n",
    " - token_type_ids\n",
    "\"\"\"\n",
    "MAX_LEN = 200\n",
    "tokenizer_checkpoint = \"bert-base-uncased\"\n",
    "tokenizer = BertTokenizer.from_pretrained(tokenizer_checkpoint)\n",
    "\n",
    "def tokenize(samples):\n",
    "    \"\"\" Tokenize text(s) with a given pretrained tokenizer\n",
    "    \"\"\"\n",
    "    tokenized_samples = tokenizer(\n",
    "        text=samples[\"comment_text\"],\n",
    "        max_length=MAX_LEN,\n",
    "        padding=\"max_length\",\n",
    "        truncation=True,\n",
    "        return_token_type_ids=True)\n",
    "    return tokenized_samples"
   ]
  },
  {
   "cell_type": "code",
   "execution_count": 58,
   "id": "14b7e324-c360-44e8-a065-e77591d251fa",
   "metadata": {},
   "outputs": [],
   "source": [
    "\"\"\" Tokenize texts in dataset\n",
    "\"\"\"\n",
    "encoded_dataset = dataset.map(function=tokenize,\n",
    "                              batched=True,\n",
    "                              num_proc=8)"
   ]
  },
  {
   "cell_type": "code",
   "execution_count": 59,
   "id": "0cdd0be6-109d-4d8e-81db-81ab4fad7a00",
   "metadata": {},
   "outputs": [],
   "source": [
    "\"\"\" Train/Test split\n",
    "\"\"\"\n",
    "TEST_SIZE = 0.2\n",
    "SEED = 42\n",
    "encoded_dataset = encoded_dataset.train_test_split(\n",
    "                            test_size=TEST_SIZE,\n",
    "                            seed=SEED)\n",
    "train_dataset = encoded_dataset[\"train\"]\n",
    "test_dataset = encoded_dataset[\"test\"]\n",
    "\n",
    "# Set output format\n",
    "train_dataset.set_format(\"torch\")\n",
    "test_dataset.set_format(\"torch\")"
   ]
  },
  {
   "cell_type": "code",
   "execution_count": 66,
   "id": "626759c1-0ccb-487d-9495-d302aedc5c03",
   "metadata": {
    "tags": []
   },
   "outputs": [],
   "source": [
    "\"\"\" Create Train/Test Dataloader (use in training loop)\n",
    "\"\"\"\n",
    "BATCH_SIZE = 16\n",
    "train_dataloader = DataLoader(dataset=train_dataset,\n",
    "                              shuffle=True,\n",
    "                              batch_size=BATCH_SIZE,\n",
    "                              num_workers=4)\n",
    "test_dataloader = DataLoader(dataset=test_dataset,\n",
    "                             batch_size=BATCH_SIZE,\n",
    "                             num_workers=4)"
   ]
  },
  {
   "cell_type": "code",
   "execution_count": 38,
   "id": "8e54e89b-c07e-4abf-b00b-79b09b8ae4c8",
   "metadata": {},
   "outputs": [],
   "source": [
    "import numpy as np\n",
    "import pandas as pd\n",
    "from sklearn import metrics\n",
    "import transformers\n",
    "import torch\n",
    "from torch.utils.data import (\n",
    "    DataLoader, RandomSampler,\n",
    "    SequentialSampler\n",
    ")"
   ]
  },
  {
   "cell_type": "code",
   "execution_count": 5,
   "id": "93922ec5-6412-4865-9655-9c111a86f4b2",
   "metadata": {},
   "outputs": [],
   "source": [
    "from torch import cuda\n",
    "device = 'cuda' if cuda.is_available() else 'cpu'"
   ]
  }
 ],
 "metadata": {
  "kernelspec": {
   "display_name": "Python 3 (ipykernel)",
   "language": "python",
   "name": "python3"
  },
  "language_info": {
   "codemirror_mode": {
    "name": "ipython",
    "version": 3
   },
   "file_extension": ".py",
   "mimetype": "text/x-python",
   "name": "python",
   "nbconvert_exporter": "python",
   "pygments_lexer": "ipython3",
   "version": "3.9.5"
  }
 },
 "nbformat": 4,
 "nbformat_minor": 5
}
