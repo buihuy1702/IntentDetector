{
 "cells": [
  {
   "cell_type": "code",
   "execution_count": 1,
   "id": "d3300298",
   "metadata": {},
   "outputs": [],
   "source": [
    "import os\n",
    "\n",
    "import pandas as pd\n",
    "\n",
    "from config import VA_DATA"
   ]
  },
  {
   "cell_type": "code",
   "execution_count": 4,
   "id": "f9c1e9cb",
   "metadata": {},
   "outputs": [
    {
     "name": "stdout",
     "output_type": "stream",
     "text": [
      "DATA PATH: data/va/toppy.xlsx\n",
      "\n"
     ]
    },
    {
     "data": {
      "text/html": [
       "<div>\n",
       "<style scoped>\n",
       "    .dataframe tbody tr th:only-of-type {\n",
       "        vertical-align: middle;\n",
       "    }\n",
       "\n",
       "    .dataframe tbody tr th {\n",
       "        vertical-align: top;\n",
       "    }\n",
       "\n",
       "    .dataframe thead th {\n",
       "        text-align: right;\n",
       "    }\n",
       "</style>\n",
       "<table border=\"1\" class=\"dataframe\">\n",
       "  <thead>\n",
       "    <tr style=\"text-align: right;\">\n",
       "      <th></th>\n",
       "      <th>No.</th>\n",
       "      <th>Sample</th>\n",
       "      <th>Intent</th>\n",
       "      <th>Entity</th>\n",
       "      <th>Notes</th>\n",
       "    </tr>\n",
       "  </thead>\n",
       "  <tbody>\n",
       "    <tr>\n",
       "      <th>0</th>\n",
       "      <td>1</td>\n",
       "      <td>không quan tâm</td>\n",
       "      <td>van_tu_choi</td>\n",
       "      <td>NaN</td>\n",
       "      <td>NaN</td>\n",
       "    </tr>\n",
       "    <tr>\n",
       "      <th>1</th>\n",
       "      <td>2</td>\n",
       "      <td>khỏi nha</td>\n",
       "      <td>van_tu_choi</td>\n",
       "      <td>NaN</td>\n",
       "      <td>NaN</td>\n",
       "    </tr>\n",
       "    <tr>\n",
       "      <th>2</th>\n",
       "      <td>3</td>\n",
       "      <td>phiền quá</td>\n",
       "      <td>van_tu_choi</td>\n",
       "      <td>NaN</td>\n",
       "      <td>NaN</td>\n",
       "    </tr>\n",
       "    <tr>\n",
       "      <th>3</th>\n",
       "      <td>4</td>\n",
       "      <td>đã bảo không cần rồi</td>\n",
       "      <td>van_tu_choi</td>\n",
       "      <td>NaN</td>\n",
       "      <td>NaN</td>\n",
       "    </tr>\n",
       "    <tr>\n",
       "      <th>4</th>\n",
       "      <td>5</td>\n",
       "      <td>con chị không học trực tuyến</td>\n",
       "      <td>van_tu_choi</td>\n",
       "      <td>NaN</td>\n",
       "      <td>NaN</td>\n",
       "    </tr>\n",
       "  </tbody>\n",
       "</table>\n",
       "</div>"
      ],
      "text/plain": [
       "   No.                        Sample       Intent  Entity  Notes\n",
       "0    1                không quan tâm  van_tu_choi     NaN    NaN\n",
       "1    2                      khỏi nha  van_tu_choi     NaN    NaN\n",
       "2    3                     phiền quá  van_tu_choi     NaN    NaN\n",
       "3    4          đã bảo không cần rồi  van_tu_choi     NaN    NaN\n",
       "4    5  con chị không học trực tuyến  van_tu_choi     NaN    NaN"
      ]
     },
     "execution_count": 4,
     "metadata": {},
     "output_type": "execute_result"
    }
   ],
   "source": [
    "\"\"\" LOAD DATA \"\"\"\n",
    "\n",
    "FILE_NAME = \"toppy\"\n",
    "FILE_EXTENSION = \"xlsx\"\n",
    "FILE = \".\".join([FILE_NAME, FILE_EXTENSION])\n",
    "\n",
    "DATA_PATH = os.path.join(VA_DATA, FILE)\n",
    "print(f\"DATA PATH: {DATA_PATH}\", end=\"\\n\\n\")\n",
    "\n",
    "data_df = pd.read_excel(DATA_PATH)\n",
    "data_df.head()"
   ]
  },
  {
   "cell_type": "code",
   "execution_count": null,
   "id": "0f1fd34a",
   "metadata": {},
   "outputs": [],
   "source": []
  }
 ],
 "metadata": {
  "kernelspec": {
   "display_name": "Python 3 (ipykernel)",
   "language": "python",
   "name": "python3"
  },
  "language_info": {
   "codemirror_mode": {
    "name": "ipython",
    "version": 3
   },
   "file_extension": ".py",
   "mimetype": "text/x-python",
   "name": "python",
   "nbconvert_exporter": "python",
   "pygments_lexer": "ipython3",
   "version": "3.8.10"
  }
 },
 "nbformat": 4,
 "nbformat_minor": 5
}
